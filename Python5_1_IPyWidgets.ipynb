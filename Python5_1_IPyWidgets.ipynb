{
 "cells": [
  {
   "cell_type": "markdown",
   "id": "d2107870",
   "metadata": {},
   "source": [
    "## 5.1 IPyWidgets\n",
    "\n",
    "### 목차\n",
    "\n",
    "1) [슬라이더와 프로그래스바](#part1) <br>\n",
    "2) [숫자와 문자 입력](#part2) <br>\n",
    "3) [버튼](#part3) <br>\n",
    "4) [선택](#part4) <br>\n",
    "5) [이미지와 애니메이션](#part5) <br>\n",
    "\n",
    "\n",
    "- IPyWidgets 는 Jupyter notebook에서 HTML의 인터랙티브 기능을 사용할 수 있게 하는 라이브러리임\n",
    "- `from ipywidgets import widgets`를 통해 라이브러리를 불러올 수 있음\n",
    "- `widets` 내의 더 구체적인 모듈인 `interact`, 등을 불러 올 수 있음\n",
    "- 현재 anaconda에 의해 설치된 버전 : 7.6.5 (latest 아님) \n",
    "\n"
   ]
  },
  {
   "cell_type": "markdown",
   "id": "3f17b8b2",
   "metadata": {},
   "source": [
    "### 1) 슬라이더와 프로그래스바 <a id=\"part2\"></a>\n",
    "\n",
    "#### A. `IntSlider()`\n",
    "\n",
    "- 어떤 범위의 정수 값들을 변화시킬 수 있는 슬라이더를 생성함\n",
    "- 디폴트값은 0~100으로 생성\n",
    "- `IntSlider()`의 주요 인수는 다음과 같음 \n",
    "    - `value=` : 슬라이드 시작 위치. \n",
    "    - `min=` : 최솟값\n",
    "    - `max=` : 최댓값\n",
    "    - `step=` : 변화간격\n",
    "    - `description=` : 슬라이더 앞에 붙이는 설명,\n",
    "    - `disabled=` : 슬라이더 기능 정지? (False, True)\n",
    "    - `continuous_update=` : 슬라이드 값을 움직이면서 변하는 값을 모두 연속적으로 적용(False, True)\n",
    "    - `orientation=` : 슬라이더 방향 ('Vertical', 'Horizontal')\n",
    "    - `readout=` : 슬라이더 오른쪽에 현재값을 보여주는 표시 여부 (False, True)\n",
    "    - `readout_format=` : 슬라이더 오른쪽에 현재값을 보여주는 표시 형식 (디폴트 d- 정수)"
   ]
  },
  {
   "cell_type": "code",
   "execution_count": 2,
   "id": "7c1697a4",
   "metadata": {},
   "outputs": [
    {
     "data": {
      "application/vnd.jupyter.widget-view+json": {
       "model_id": "0b11b6e8386a4a8eac6d79ed8bc2c158",
       "version_major": 2,
       "version_minor": 0
      },
      "text/plain": [
       "IntSlider(value=0)"
      ]
     },
     "metadata": {},
     "output_type": "display_data"
    }
   ],
   "source": [
    "from ipywidgets import widgets\n",
    "widgets.IntSlider()"
   ]
  },
  {
   "cell_type": "code",
   "execution_count": 3,
   "id": "946a4c57",
   "metadata": {},
   "outputs": [
    {
     "data": {
      "application/vnd.jupyter.widget-view+json": {
       "model_id": "df644e265f984f94aa823967add32289",
       "version_major": 2,
       "version_minor": 0
      },
      "text/plain": [
       "IntSlider(value=0)"
      ]
     },
     "metadata": {},
     "output_type": "display_data"
    }
   ],
   "source": [
    "from IPython.display import display\n",
    "w = widgets.IntSlider()  #IntSlider 를 w에 지정하고 IPython.display 모듈의 display 함수를 이용해 보이게 할 수도 있음\n",
    "display(w)"
   ]
  },
  {
   "cell_type": "code",
   "execution_count": 4,
   "id": "318d0ee3",
   "metadata": {},
   "outputs": [
    {
     "data": {
      "application/vnd.jupyter.widget-view+json": {
       "model_id": "b0e4ac11fcb5427ab74fb70725b97371",
       "version_major": 2,
       "version_minor": 0
      },
      "text/plain": [
       "IntSlider(value=10, max=50, step=2)"
      ]
     },
     "metadata": {},
     "output_type": "display_data"
    }
   ],
   "source": [
    "#value, min, max, step 순서대로 입력할 경우 argument 이름 명시 안해도 됨\n",
    "widgets.IntSlider(10, 0, 50, 2) "
   ]
  },
  {
   "cell_type": "code",
   "execution_count": 5,
   "id": "1e0cadc1",
   "metadata": {},
   "outputs": [
    {
     "data": {
      "application/vnd.jupyter.widget-view+json": {
       "model_id": "a0ef641f0a7a48ec87e9210e8521ee59",
       "version_major": 2,
       "version_minor": 0
      },
      "text/plain": [
       "IntSlider(value=3, continuous_update=False, description='슬라이더', max=10, orientation='vertical')"
      ]
     },
     "metadata": {},
     "output_type": "display_data"
    }
   ],
   "source": [
    "widgets.IntSlider(\n",
    "    value=3,\n",
    "    min=0,\n",
    "    max=10,\n",
    "    step=1,\n",
    "    description='슬라이더',\n",
    "    disabled=False,\n",
    "    continuous_update=False,\n",
    "    orientation='Vertical',\n",
    "    readout=True,\n",
    "    readout_format='d' \n",
    ")"
   ]
  },
  {
   "cell_type": "markdown",
   "id": "085df813",
   "metadata": {},
   "source": [
    "#### B. `FloatSlider()`, `FloatLogSlider()`\n",
    "- 어떤 범위의 float 값들을 로그 스케일 $Log_a{x}$ 에따라 변화시킬 수 있는 슬라이더를 생성함\n",
    "- 디폴트값은 0.00~100.00으로 생성\n",
    "- `FloatLogSlider()`의 주요 인수는 다음과 같음 \n",
    "    - `value=` : 슬라이드 시작 위치\n",
    "    - `base=` : 로그 밑 값 $a$\n",
    "    - `min=` : 최솟값\n",
    "    - `max=` : 최댓값\n",
    "    - `step=` : 변화간격\n",
    "    - 나머지 인수는 `FloatSlider()`와 동일함"
   ]
  },
  {
   "cell_type": "code",
   "execution_count": 6,
   "id": "fb83df00",
   "metadata": {},
   "outputs": [
    {
     "data": {
      "application/vnd.jupyter.widget-view+json": {
       "model_id": "e17dcf2225b94709bc344fc92a9e0226",
       "version_major": 2,
       "version_minor": 0
      },
      "text/plain": [
       "FloatSlider(value=0.0)"
      ]
     },
     "metadata": {},
     "output_type": "display_data"
    }
   ],
   "source": [
    "from ipywidgets import widgets\n",
    "widgets.FloatSlider()"
   ]
  },
  {
   "cell_type": "code",
   "execution_count": 7,
   "id": "8b8bd22a",
   "metadata": {},
   "outputs": [
    {
     "data": {
      "application/vnd.jupyter.widget-view+json": {
       "model_id": "642d605b7bd5484e96b141cf2bad18e7",
       "version_major": 2,
       "version_minor": 0
      },
      "text/plain": [
       "FloatSlider(value=7.5, continuous_update=False, description='슬라이더', max=10.0, readout_format='.1f')"
      ]
     },
     "metadata": {},
     "output_type": "display_data"
    }
   ],
   "source": [
    "widgets.FloatSlider(\n",
    "    value=7.5,\n",
    "    min=0,\n",
    "    max=10.0,\n",
    "    step=0.1,\n",
    "    description='슬라이더',\n",
    "    disabled=False,\n",
    "    continuous_update=False,\n",
    "    orientation='horizontal',\n",
    "    readout=True,\n",
    "    readout_format='.1f',\n",
    ")"
   ]
  },
  {
   "cell_type": "code",
   "execution_count": 1,
   "id": "b58b3fdf",
   "metadata": {},
   "outputs": [
    {
     "ename": "NameError",
     "evalue": "name 'widgets' is not defined",
     "output_type": "error",
     "traceback": [
      "\u001b[1;31m---------------------------------------------------------------------------\u001b[0m",
      "\u001b[1;31mNameError\u001b[0m                                 Traceback (most recent call last)",
      "\u001b[1;32m~\\AppData\\Local\\Temp/ipykernel_13848/2436212089.py\u001b[0m in \u001b[0;36m<module>\u001b[1;34m\u001b[0m\n\u001b[1;32m----> 1\u001b[1;33m widgets.FloatLogSlider(\n\u001b[0m\u001b[0;32m      2\u001b[0m     \u001b[0mvalue\u001b[0m\u001b[1;33m=\u001b[0m\u001b[1;36m10\u001b[0m\u001b[1;33m,\u001b[0m\u001b[1;33m\u001b[0m\u001b[1;33m\u001b[0m\u001b[0m\n\u001b[0;32m      3\u001b[0m     \u001b[0mbase\u001b[0m\u001b[1;33m=\u001b[0m\u001b[1;36m10\u001b[0m\u001b[1;33m,\u001b[0m\u001b[1;33m\u001b[0m\u001b[1;33m\u001b[0m\u001b[0m\n\u001b[0;32m      4\u001b[0m     \u001b[0mmin\u001b[0m\u001b[1;33m=\u001b[0m\u001b[1;33m-\u001b[0m\u001b[1;36m10\u001b[0m\u001b[1;33m,\u001b[0m \u001b[1;31m# max exponent of base\u001b[0m\u001b[1;33m\u001b[0m\u001b[1;33m\u001b[0m\u001b[0m\n\u001b[0;32m      5\u001b[0m     \u001b[0mmax\u001b[0m\u001b[1;33m=\u001b[0m\u001b[1;36m10\u001b[0m\u001b[1;33m,\u001b[0m \u001b[1;31m# min exponent of base\u001b[0m\u001b[1;33m\u001b[0m\u001b[1;33m\u001b[0m\u001b[0m\n",
      "\u001b[1;31mNameError\u001b[0m: name 'widgets' is not defined"
     ]
    }
   ],
   "source": [
    "widgets.FloatLogSlider(\n",
    "    value=10,\n",
    "    base=10,\n",
    "    min=-10, # max exponent of base\n",
    "    max=10, # min exponent of base\n",
    "    step=0.2, # exponent step\n",
    "    description='Log Slider'\n",
    ")"
   ]
  },
  {
   "cell_type": "markdown",
   "id": "43121768",
   "metadata": {},
   "source": [
    "#### C. `IntRangeSlider()` ,  `FloatRangeSlider()` \n",
    "-`value=[a.b]`와 같이 나타내면 두 값을 시작점으로부터 움직이게 할 수 있음\n",
    "- 나머지 인수는 `IntSlider()`,`FloatSlider()`와 동일"
   ]
  },
  {
   "cell_type": "code",
   "execution_count": 9,
   "id": "5f703179",
   "metadata": {},
   "outputs": [
    {
     "data": {
      "application/vnd.jupyter.widget-view+json": {
       "model_id": "425567b2e7e34201aa1badb105262c41",
       "version_major": 2,
       "version_minor": 0
      },
      "text/plain": [
       "IntRangeSlider(value=(5, 7), continuous_update=False, description='Test:', max=10)"
      ]
     },
     "metadata": {},
     "output_type": "display_data"
    }
   ],
   "source": [
    "widgets.IntRangeSlider(\n",
    "    value=[5, 7],\n",
    "    min=0,\n",
    "    max=10,\n",
    "    step=1,\n",
    "    description='Test:',\n",
    "    disabled=False,\n",
    "    continuous_update=False,\n",
    "    orientation='horizontal',\n",
    "    readout=True,\n",
    "    readout_format='d',\n",
    ")"
   ]
  },
  {
   "cell_type": "markdown",
   "id": "0d3a5e8f",
   "metadata": {},
   "source": [
    "#### D. `IntProgress()` ,  `FloatProgress()` \n",
    "- 직사각형 막대에 진행 비율을 나타내줌\n",
    "- 주요 인수들\n",
    " - `value`, `min`, `max`, `description`, `orientation` 은 슬라이더와 유사한 기능\n",
    " - `bar_style=` : 막대 스타일 지정 유형 중 선택 ('success', 'info', 'warning', 'danger' or '')\n",
    " - `style=` : 스타일 직접 지정 (예: `'bar_color':'red'`) "
   ]
  },
  {
   "cell_type": "code",
   "execution_count": 10,
   "id": "dd06f055",
   "metadata": {},
   "outputs": [
    {
     "data": {
      "application/vnd.jupyter.widget-view+json": {
       "model_id": "8453a7d4597d45cd94de0595f963e6a6",
       "version_major": 2,
       "version_minor": 0
      },
      "text/plain": [
       "IntProgress(value=7, bar_style='warning', description='Loading:', max=10)"
      ]
     },
     "metadata": {},
     "output_type": "display_data"
    }
   ],
   "source": [
    "widgets.IntProgress(\n",
    "    value=7,\n",
    "    min=0,\n",
    "    max=10,\n",
    "    description='Loading:',\n",
    "    bar_style='warning', # 'success', 'info', 'warning', 'danger' or ''\n",
    "    #style={'bar_color': 'maroon'},\n",
    "    orientation='horizontal'\n",
    ")"
   ]
  },
  {
   "cell_type": "code",
   "execution_count": 11,
   "id": "9cbe5bd2",
   "metadata": {},
   "outputs": [
    {
     "data": {
      "application/vnd.jupyter.widget-view+json": {
       "model_id": "e0a51dcc05af4843a3572ebf6ef096a9",
       "version_major": 2,
       "version_minor": 0
      },
      "text/plain": [
       "FloatProgress(value=7.5, bar_style='info', description='Loading:', max=10.0, style=ProgressStyle(bar_color='re…"
      ]
     },
     "metadata": {},
     "output_type": "display_data"
    }
   ],
   "source": [
    "widgets.FloatProgress(\n",
    "    value=7.5,\n",
    "    min=0,\n",
    "    max=10.0,\n",
    "    description='Loading:',\n",
    "    bar_style='info',\n",
    "    style={'bar_color': 'red'},\n",
    "    orientation='horizontal'\n",
    ")"
   ]
  },
  {
   "cell_type": "markdown",
   "id": "7402aaf3",
   "metadata": {},
   "source": [
    "### 2) 숫자와 문자 입력 <a id=\"part2\"></a>\n",
    "\n",
    "#### A. 숫자 입력\n",
    "- `IntText()` : 정수 입력\n",
    "- `FloatText()` : 소수 입력\n",
    "- `BoundedIntText()` :  일정 범위의 정수 입력\n",
    "- `BoundedFloatText()` : 일정 범위의 소수 입력\n",
    "- 위 함수의 주요 인수는 다음과 같음 \n",
    "    - `value=` : 입력칸에 처음 보이는 숫자\n",
    "    - `min=` : 최솟값\n",
    "    - `max=` : 최댓값\n",
    "    - `step=` : 변화간격\n",
    "    - `description=` : 텍스트 입력칸 앞에 붙이는 설명,\n",
    "    - `disabled=` : 기능 정지 (False, True)\n",
    "- 입력칸을 클릭하면 오른쪽에 화살표를 이용해 숫자를 조정할 수도 있고 직접 입력할 수도 있음"
   ]
  },
  {
   "cell_type": "code",
   "execution_count": 12,
   "id": "19cfdb3e",
   "metadata": {},
   "outputs": [
    {
     "data": {
      "application/vnd.jupyter.widget-view+json": {
       "model_id": "f637a643985e4e86a7649b11d9ad3ed8",
       "version_major": 2,
       "version_minor": 0
      },
      "text/plain": [
       "IntText(value=7, description='Any:')"
      ]
     },
     "metadata": {},
     "output_type": "display_data"
    }
   ],
   "source": [
    "from ipywidgets import widgets\n",
    "widgets.IntText(\n",
    "    value=7,\n",
    "    description='Any:',\n",
    "    disabled=False\n",
    ")"
   ]
  },
  {
   "cell_type": "code",
   "execution_count": 13,
   "id": "7bdde7a0",
   "metadata": {},
   "outputs": [
    {
     "data": {
      "application/vnd.jupyter.widget-view+json": {
       "model_id": "303527737b744254a34e152945e70893",
       "version_major": 2,
       "version_minor": 0
      },
      "text/plain": [
       "FloatText(value=7.5, description='Any:')"
      ]
     },
     "metadata": {},
     "output_type": "display_data"
    }
   ],
   "source": [
    "widgets.FloatText(\n",
    "    value=7.5,\n",
    "    description='Any:',\n",
    "    disabled=False\n",
    ")"
   ]
  },
  {
   "cell_type": "code",
   "execution_count": 14,
   "id": "7d37d5ad",
   "metadata": {},
   "outputs": [
    {
     "data": {
      "application/vnd.jupyter.widget-view+json": {
       "model_id": "804fa0485deb4f41aea04a350d8bf565",
       "version_major": 2,
       "version_minor": 0
      },
      "text/plain": [
       "BoundedIntText(value=7, description='Text:', max=10)"
      ]
     },
     "metadata": {},
     "output_type": "display_data"
    }
   ],
   "source": [
    "widgets.BoundedIntText(\n",
    "    value=7,\n",
    "    min=0,\n",
    "    max=10,\n",
    "    step=1,\n",
    "    description='Text:',\n",
    "    disabled=False\n",
    ")"
   ]
  },
  {
   "cell_type": "code",
   "execution_count": 15,
   "id": "b7935c9e",
   "metadata": {},
   "outputs": [
    {
     "data": {
      "application/vnd.jupyter.widget-view+json": {
       "model_id": "41e7e8b151694aa8910cf3693c96c9fa",
       "version_major": 2,
       "version_minor": 0
      },
      "text/plain": [
       "BoundedFloatText(value=7.5, description='Text:', max=10.0, step=0.1)"
      ]
     },
     "metadata": {},
     "output_type": "display_data"
    }
   ],
   "source": [
    "widgets.BoundedFloatText(\n",
    "    value=7.5,\n",
    "    min=0,\n",
    "    max=10.0,\n",
    "    step=0.1,\n",
    "    description='Text:',\n",
    "    disabled=False\n",
    ")"
   ]
  },
  {
   "cell_type": "markdown",
   "id": "be966188",
   "metadata": {},
   "source": [
    "#### B. 문자 입력\n",
    "\n",
    "- `Text()` : 문자 입력칸 (HTML `<input type=\"text\">` 와 유사)\n",
    "- `Textarea()` : 여러 줄의 텍스트 입력칸 (HTML `<textarea>`와 유사)\n",
    "- `Combobox()` : 문자 입력칸에 선택 입력값도 보여줌 (HTML `<datalist>`와 유사)\n",
    "- `HTML()` : HTML 입력 가능\n",
    "- `HTMLMath()` : HTML과 Latex 입력 가능\n",
    "- 위 함수의 주요 인수는 다음과 같음 \n",
    "    - `value=` : 문자 입력칸에 처음 보이는 문자 입력 내용\n",
    "    - `placeholder=` : 문자 입력칸에 아무것도 입력하지 않았을 때 보이는 문자 (클릭하면 지워짐)\n",
    "    - `description=` : 문자 입력칸 앞에 나오는 설명\n",
    "    - `disabled=` : 기능 정지 (False, True)\n",
    "    - `options=` : 선택지 리스트\n",
    "    - `ensure_option` : ? (False, True)"
   ]
  },
  {
   "cell_type": "code",
   "execution_count": 16,
   "id": "b9f1759f",
   "metadata": {},
   "outputs": [
    {
     "data": {
      "application/vnd.jupyter.widget-view+json": {
       "model_id": "d103192ec5ed49a4ac86d7156e828207",
       "version_major": 2,
       "version_minor": 0
      },
      "text/plain": [
       "Text(value='Hello World', description='String:', placeholder='Type something')"
      ]
     },
     "metadata": {},
     "output_type": "display_data"
    }
   ],
   "source": [
    "from ipywidgets import widgets\n",
    "widgets.Text(\n",
    "    value='Hello World',\n",
    "    placeholder='Type something',\n",
    "    description='String:',\n",
    "    disabled=False\n",
    ")"
   ]
  },
  {
   "cell_type": "code",
   "execution_count": 17,
   "id": "81d91cea",
   "metadata": {},
   "outputs": [
    {
     "data": {
      "application/vnd.jupyter.widget-view+json": {
       "model_id": "b9c68aefcbe34349b6ae4e2497564c54",
       "version_major": 2,
       "version_minor": 0
      },
      "text/plain": [
       "Textarea(value='Hello World', description='String:', placeholder='Type something')"
      ]
     },
     "metadata": {},
     "output_type": "display_data"
    }
   ],
   "source": [
    "widgets.Textarea(\n",
    "    value='Hello World',\n",
    "    placeholder='Type something',\n",
    "    description='String:',\n",
    "    disabled=False\n",
    ")"
   ]
  },
  {
   "cell_type": "code",
   "execution_count": 18,
   "id": "724a67f4",
   "metadata": {},
   "outputs": [
    {
     "data": {
      "application/vnd.jupyter.widget-view+json": {
       "model_id": "3dee009af470439f8f7d288df84c96ac",
       "version_major": 2,
       "version_minor": 0
      },
      "text/plain": [
       "Combobox(value='', description='Combobox:', ensure_option=True, options=('Paul', 'John', 'George', 'Ringo'), p…"
      ]
     },
     "metadata": {},
     "output_type": "display_data"
    }
   ],
   "source": [
    "widgets.Combobox(\n",
    "    # value='John',\n",
    "    placeholder='Choose Someone',\n",
    "    options=['Paul', 'John', 'George', 'Ringo'],\n",
    "    description='Combobox:',\n",
    "    ensure_option=True,\n",
    "    disabled=False\n",
    ")"
   ]
  },
  {
   "cell_type": "code",
   "execution_count": 19,
   "id": "c7b4d478",
   "metadata": {},
   "outputs": [
    {
     "data": {
      "application/vnd.jupyter.widget-view+json": {
       "model_id": "d3ac6322d3974c459355e8a89d407035",
       "version_major": 2,
       "version_minor": 0
      },
      "text/plain": [
       "HTML(value='Hello <b>World</b>', description='Some HTML:', placeholder='Some HTML')"
      ]
     },
     "metadata": {},
     "output_type": "display_data"
    }
   ],
   "source": [
    "widgets.HTML(\n",
    "    value=\"Hello <b>World</b>\",\n",
    "    placeholder='Some HTML',\n",
    "    description='Some HTML:',\n",
    ")"
   ]
  },
  {
   "cell_type": "code",
   "execution_count": 20,
   "id": "48f904f5",
   "metadata": {},
   "outputs": [
    {
     "data": {
      "application/vnd.jupyter.widget-view+json": {
       "model_id": "589049e27ef44a85a53530ae1821102a",
       "version_major": 2,
       "version_minor": 0
      },
      "text/plain": [
       "HTMLMath(value='Some math and <i>HTML</i>: \\\\(x^2\\\\) and $$\\\\frac{x+1}{x-1}$$', description='Some HTML:', plac…"
      ]
     },
     "metadata": {},
     "output_type": "display_data"
    }
   ],
   "source": [
    "widgets.HTMLMath(\n",
    "    value=r\"Some math and <i>HTML</i>: \\(x^2\\) and $$\\frac{x+1}{x-1}$$\",\n",
    "    placeholder='Some HTML',\n",
    "    description='Some HTML:',\n",
    ")"
   ]
  },
  {
   "cell_type": "markdown",
   "id": "226a33c4",
   "metadata": {},
   "source": [
    "#### C. Label \n",
    "- `Lable()` : 문자열을 프린트함. 위젯의 설명(description) 등을 위해 사용\n",
    "- 긴 라벨을 만들 수 있음"
   ]
  },
  {
   "cell_type": "code",
   "execution_count": 21,
   "id": "85c70d5b",
   "metadata": {},
   "outputs": [
    {
     "data": {
      "application/vnd.jupyter.widget-view+json": {
       "model_id": "50e71cf1aeaf4d83a931a40069c457f1",
       "version_major": 2,
       "version_minor": 0
      },
      "text/plain": [
       "Label(value='The $m$ in $E=mc^2$:')"
      ]
     },
     "metadata": {},
     "output_type": "display_data"
    }
   ],
   "source": [
    "widgets.Label(value=\"The $m$ in $E=mc^2$:\")"
   ]
  },
  {
   "cell_type": "code",
   "execution_count": 22,
   "id": "ed78a71f",
   "metadata": {
    "scrolled": true
   },
   "outputs": [
    {
     "data": {
      "application/vnd.jupyter.widget-view+json": {
       "model_id": "74d41ae8380d4003a5afea0d4bf353bd",
       "version_major": 2,
       "version_minor": 0
      },
      "text/plain": [
       "HBox(children=(Label(value='Long Label Here:'), FloatSlider(value=0.0)))"
      ]
     },
     "metadata": {},
     "output_type": "display_data"
    }
   ],
   "source": [
    "widgets.HBox([widgets.Label(value=\"Long Label Here:\"), widgets.FloatSlider()])"
   ]
  },
  {
   "cell_type": "markdown",
   "id": "b21adcb8",
   "metadata": {},
   "source": [
    "### 3)  버튼 <a id=\"part3\"></a>\n",
    "\n",
    "#### A. ToggleButton and ToggleButtons\n",
    "\n",
    "- `ToggleButton()`: 클릭하면 선택되었다 안되었다 번갈아 변하는 버튼\n",
    "- `ToggleButtons()`: 여러 개의 버튼 중에서 클릭하면 하나가 선택되고 다른 것은 선택이 해제되는 버튼 그룹\n",
    "- 위 함수의 주요 인수는 다음과 같음 \n",
    "    - `value=` : 처음에 선택된 값 (ToggleButton 버튼의 경우는 True-선택, False-선택 해재)\n",
    "    - `description=` : 버튼에 나오는 글자 내용\n",
    "    - `button_style=` : 버튼 디자인 ('primary', 'success', 'info', 'warning', 'danger' or '')\n",
    "    - `tooltip=` : 마우스 포인터 올렸을때 나오는 설명 (ToggleButtons는 tooltips)\n",
    "    - `icon=` : 버튼에 나오는 글자 앞에 나오는 기호 아이콘 (https://www.w3schools.com/icons/icons_reference.asp 아이콘 이름앞에 \"fa-\" 지움\n",
    "   "
   ]
  },
  {
   "cell_type": "code",
   "execution_count": 23,
   "id": "4cff00d5",
   "metadata": {},
   "outputs": [
    {
     "data": {
      "application/vnd.jupyter.widget-view+json": {
       "model_id": "478f00155e314b668eaaf1b81b7f258d",
       "version_major": 2,
       "version_minor": 0
      },
      "text/plain": [
       "ToggleButton(value=False, button_style='primary', description='Click me', icon='check', tooltip='Description')"
      ]
     },
     "metadata": {},
     "output_type": "display_data"
    }
   ],
   "source": [
    "from ipywidgets import widgets\n",
    "widgets.ToggleButton(\n",
    "    value=False,\n",
    "    description='Click me',\n",
    "    disabled=False,\n",
    "    button_style='primary', \n",
    "    tooltip='Description',\n",
    "    icon='check' \n",
    ")"
   ]
  },
  {
   "cell_type": "code",
   "execution_count": 24,
   "id": "bf0f7942",
   "metadata": {},
   "outputs": [
    {
     "data": {
      "application/vnd.jupyter.widget-view+json": {
       "model_id": "9052b5383d8047bc8515112ae1acc04d",
       "version_major": 2,
       "version_minor": 0
      },
      "text/plain": [
       "ToggleButtons(description='Speed:', index=1, options=('Slow', 'Regular', 'Fast'), tooltips=('Description of sl…"
      ]
     },
     "metadata": {},
     "output_type": "display_data"
    }
   ],
   "source": [
    "widgets.ToggleButtons(\n",
    "    value=\"Regular\",\n",
    "    options=['Slow', 'Regular', 'Fast'],\n",
    "    description='Speed:',\n",
    "    disabled=False,\n",
    "    button_style='', \n",
    "    tooltips=['Description of slow', 'Description of regular', 'Description of fast'],\n",
    "    #icons=['check'] * 3     # 이 아이콘은 뒤에 나옴?\n",
    ")"
   ]
  },
  {
   "cell_type": "markdown",
   "id": "c22c2dc2",
   "metadata": {},
   "source": [
    "#### B. Button\n",
    "- `Button()` : Toggle 기능 없는 버튼\n",
    "- 인수는 ToggleButton 과 유사"
   ]
  },
  {
   "cell_type": "code",
   "execution_count": 25,
   "id": "0e6affa2",
   "metadata": {},
   "outputs": [
    {
     "data": {
      "application/vnd.jupyter.widget-view+json": {
       "model_id": "df9f57a66bc641f19dccb04d233dab36",
       "version_major": 2,
       "version_minor": 0
      },
      "text/plain": [
       "Button(description='Click me', icon='check', style=ButtonStyle(), tooltip='Click me')"
      ]
     },
     "metadata": {},
     "output_type": "display_data"
    }
   ],
   "source": [
    "button = widgets.Button(\n",
    "    description='Click me',\n",
    "    disabled=False,\n",
    "    button_style='', \n",
    "    tooltip='Click me',\n",
    "    icon='check' \n",
    ")\n",
    "button"
   ]
  },
  {
   "cell_type": "markdown",
   "id": "d9d2dba8",
   "metadata": {},
   "source": [
    "#### C. RadioButtons\n",
    "- `RadioButtons()` : 원에 체크하는 Radio 버튼 \n",
    "- 인수는 다른 버튼과 유사하나 아래 인수 추가됨\n",
    "     - `options` : radio 버튼의 옵션들 (리스트)\n",
    "- `layout=` 을 이용해 배치를 바꿀 수 있음 "
   ]
  },
  {
   "cell_type": "code",
   "execution_count": 26,
   "id": "d7ac65d0",
   "metadata": {},
   "outputs": [
    {
     "data": {
      "application/vnd.jupyter.widget-view+json": {
       "model_id": "56a920d6a08a4fe99636c907eabf8063",
       "version_major": 2,
       "version_minor": 0
      },
      "text/plain": [
       "RadioButtons(description='Pizza topping:', options=('pepperoni', 'pineapple', 'anchovies'), value='pepperoni')"
      ]
     },
     "metadata": {},
     "output_type": "display_data"
    }
   ],
   "source": [
    "widgets.RadioButtons(\n",
    "    options=['pepperoni', 'pineapple', 'anchovies'],\n",
    "#    value='pineapple', \n",
    "#   layout={'width': 'max-content'}, # 옵션 글자가 너무 길어서 버튼이 밀리는 경우 사용\n",
    "    description='Pizza topping:',\n",
    "    disabled=False\n",
    ")"
   ]
  },
  {
   "cell_type": "markdown",
   "id": "dc06d748",
   "metadata": {},
   "source": [
    "### 4) 선택 <a id=\"part4\"></a>\n",
    "\n",
    "#### A. Checkbox\n",
    "- `Checkbox()` : check박스 \n",
    "- 인수는 다른 위젯과 유사함\n",
    "    - `value=` : 체크 - True, 언체크 - False\n",
    "    - `indent` : 들여쓰기\n",
    "- HTML checkbox와 유사"
   ]
  },
  {
   "cell_type": "code",
   "execution_count": 27,
   "id": "969b0e1c",
   "metadata": {},
   "outputs": [
    {
     "data": {
      "application/vnd.jupyter.widget-view+json": {
       "model_id": "8958f73e81de4390a868e3c7493726fc",
       "version_major": 2,
       "version_minor": 0
      },
      "text/plain": [
       "Checkbox(value=False, description='Check me', indent=False)"
      ]
     },
     "metadata": {},
     "output_type": "display_data"
    }
   ],
   "source": [
    "from ipywidgets import widgets\n",
    "widgets.Checkbox(\n",
    "    value=False,\n",
    "    description='Check me',\n",
    "    disabled=False,\n",
    "    indent=False\n",
    ")"
   ]
  },
  {
   "cell_type": "markdown",
   "id": "ec4071f4",
   "metadata": {},
   "source": [
    "#### B. Dropdown\n",
    "- `Dropdown()` : 드롭다운 메뉴\n",
    "- 인수는 다른 위젯과 유사함\n",
    "    - `options=` : radio button 처럼 선택지 리스트로 설정. 각 옵션을 ('optiontitle', 'optionvalue)의 tuple로 제공 가능\n",
    "    - `value=` : 디폴트 선택 값\n",
    "- HTML select 와 유사"
   ]
  },
  {
   "cell_type": "code",
   "execution_count": 28,
   "id": "347397f7",
   "metadata": {},
   "outputs": [
    {
     "data": {
      "application/vnd.jupyter.widget-view+json": {
       "model_id": "833a9b3b3da447a88c12e9c1d572a246",
       "version_major": 2,
       "version_minor": 0
      },
      "text/plain": [
       "Dropdown(description='Number:', index=1, options=('1', '2', '3'), value='2')"
      ]
     },
     "metadata": {},
     "output_type": "display_data"
    }
   ],
   "source": [
    "from ipywidgets import widgets\n",
    "widgets.Dropdown(\n",
    "    options=['1', '2', '3'],\n",
    "    value='2',\n",
    "    description='Number:',\n",
    "    disabled=False,\n",
    ")"
   ]
  },
  {
   "cell_type": "code",
   "execution_count": 29,
   "id": "d2f28cc9",
   "metadata": {},
   "outputs": [
    {
     "data": {
      "application/vnd.jupyter.widget-view+json": {
       "model_id": "fe2d7c1f37dc45609077b5820ffc9a3a",
       "version_major": 2,
       "version_minor": 0
      },
      "text/plain": [
       "Dropdown(description='Number:', index=1, options=(('One', 1), ('Two', 2), ('Three', 3)), value=2)"
      ]
     },
     "metadata": {},
     "output_type": "display_data"
    }
   ],
   "source": [
    "widgets.Dropdown(\n",
    "    options=[('One', 1), ('Two', 2), ('Three', 3)],\n",
    "    value=2,\n",
    "    description='Number:',\n",
    ")"
   ]
  },
  {
   "cell_type": "markdown",
   "id": "0e5af740",
   "metadata": {},
   "source": [
    "#### C. Select and SelectMultiple\n",
    "- `Select()`, `SelectMultiple()` : 선택 메뉴 박스\n",
    "- `SelectMultiple()` 는 Shift 또는 Ctrl 키를 이용해 복수 선택 가능\n",
    "- 인수는 Dropdown과 유사함\n",
    "    - `rows=` 박스가 몇 줄인지 조정"
   ]
  },
  {
   "cell_type": "code",
   "execution_count": 30,
   "id": "8cfdd4c8",
   "metadata": {},
   "outputs": [
    {
     "data": {
      "application/vnd.jupyter.widget-view+json": {
       "model_id": "e68dfcc24e2a408893d5595e2ec7f6c2",
       "version_major": 2,
       "version_minor": 0
      },
      "text/plain": [
       "Select(description='OS:', index=2, options=('Linux', 'Windows', 'macOS'), value='macOS')"
      ]
     },
     "metadata": {},
     "output_type": "display_data"
    }
   ],
   "source": [
    "widgets.Select(\n",
    "    options=['Linux', 'Windows', 'macOS'],\n",
    "    value='macOS',\n",
    "    #rows=10,\n",
    "    description='OS:',\n",
    "    disabled=False\n",
    ")"
   ]
  },
  {
   "cell_type": "code",
   "execution_count": 31,
   "id": "c4cba54b",
   "metadata": {},
   "outputs": [
    {
     "data": {
      "application/vnd.jupyter.widget-view+json": {
       "model_id": "2d6a380c53304b8ea71e1e685933be54",
       "version_major": 2,
       "version_minor": 0
      },
      "text/plain": [
       "SelectMultiple(description='Fruits', index=(1,), options=('Apples', 'Oranges', 'Pears'), value=('Oranges',))"
      ]
     },
     "metadata": {},
     "output_type": "display_data"
    }
   ],
   "source": [
    "widgets.SelectMultiple(\n",
    "    options=['Apples', 'Oranges', 'Pears'],\n",
    "    value=['Oranges'],\n",
    "    #rows=10,\n",
    "    description='Fruits',\n",
    "    disabled=False\n",
    ")"
   ]
  },
  {
   "cell_type": "code",
   "execution_count": null,
   "id": "09c0ed82",
   "metadata": {},
   "outputs": [],
   "source": []
  },
  {
   "cell_type": "markdown",
   "id": "4b553672",
   "metadata": {},
   "source": [
    "### 5) 이미지와 애니메이션 <a id=\"part5\"></a>\n",
    "\n",
    "#### A. Image\n",
    "- `image()` : 이미지를 삽입함\n",
    "- 인수는 다음과 같음\n",
    "    - `value=` : image를 `read()` method로 읽어서 저장한 object 네임\n",
    "    - `format=` : 파일 형식\n",
    "    - `width=`, `height=` : 삽입하는 그림 크기"
   ]
  },
  {
   "cell_type": "code",
   "execution_count": 3,
   "id": "af1b836a",
   "metadata": {},
   "outputs": [
    {
     "data": {
      "application/vnd.jupyter.widget-view+json": {
       "model_id": "979d1d11d04e4e5fa6a2c75a0fa46ed7",
       "version_major": 2,
       "version_minor": 0
      },
      "text/plain": [
       "Image(value=b'\\x89PNG\\r\\n\\x1a\\n\\x00\\x00\\x00\\rIHDR\\x00\\x00\\x012\\x00\\x00\\x01\\xb1\\x08\\x06\\x00\\x00\\x00\\xe1\\xe2:\\xb…"
      ]
     },
     "metadata": {},
     "output_type": "display_data"
    }
   ],
   "source": [
    "file = open(\"widgetImage.png\", \"rb\")\n",
    "image = file.read()\n",
    "widgets.Image(\n",
    "    value=image,\n",
    "    format='png',\n",
    "    width=300,\n",
    "    height=400,\n",
    ")"
   ]
  },
  {
   "cell_type": "markdown",
   "id": "e35e4d4c",
   "metadata": {},
   "source": [
    "### C. Play(Animation)\n",
    "- `Play()` : 애니메이션 설정하기. \n",
    "- 인수는 다음과 같음\n",
    "    - `value=` : 디폴트 값\n",
    "    - `min=` : value의 최솟값\n",
    "    - `max=` : value의 최댓값\n",
    "    - `step=` : value가 움직이는 간격\n",
    "    - `interval=` : value가 움직이는 속도 (적을 수록 빠름)\n",
    "- `jslink()`: `Play()`을 이용해 해당 애니메이션 옵션을 설정하여 object를 만든 다음, 실제 움직일 위젯을 만들고 이를 `jslink()`를 이용해 링크함  \n",
    "- `jslink((playobject, '링크할옵션 in playobject'), (widgetobject, '링크할옵션 in playobject'))` 와 같이 설정함\n"
   ]
  },
  {
   "cell_type": "code",
   "execution_count": 4,
   "id": "c90cdecf",
   "metadata": {},
   "outputs": [
    {
     "data": {
      "application/vnd.jupyter.widget-view+json": {
       "model_id": "d817d464046744cd9e706f8b132a1ed6",
       "version_major": 2,
       "version_minor": 0
      },
      "text/plain": [
       "HBox(children=(Play(value=50, description='Press play'), IntSlider(value=0)))"
      ]
     },
     "metadata": {},
     "output_type": "display_data"
    }
   ],
   "source": [
    "play = widgets.Play(\n",
    "    #interval=5,\n",
    "    value=50,\n",
    "    min=0,\n",
    "    max=100,\n",
    "    step=1,\n",
    "    description=\"Press play\",\n",
    "    disabled=False\n",
    ")\n",
    "slider = widgets.IntSlider()\n",
    "widgets.jslink((play, 'value'), (slider, 'value'))\n",
    "widgets.HBox([play, slider])"
   ]
  },
  {
   "cell_type": "markdown",
   "id": "b84339c8",
   "metadata": {},
   "source": [
    "- 플레이 버튼을 눌러서 애니메이션을 실행함. 반복 버튼을 누르면 반복됨"
   ]
  },
  {
   "cell_type": "markdown",
   "id": "2e19ac0c",
   "metadata": {},
   "source": [
    "최신버전 : https://ipywidgets.readthedocs.io/en/latest/examples/Widget%20List.html <br>\n",
    "기존버전(현재 anaconda) : https://ipywidgets.readthedocs.io/en/stable/examples/Widget%20List.html"
   ]
  },
  {
   "cell_type": "code",
   "execution_count": null,
   "id": "7a7cb7ef",
   "metadata": {},
   "outputs": [],
   "source": []
  }
 ],
 "metadata": {
  "kernelspec": {
   "display_name": "Python 3 (ipykernel)",
   "language": "python",
   "name": "python3"
  },
  "language_info": {
   "codemirror_mode": {
    "name": "ipython",
    "version": 3
   },
   "file_extension": ".py",
   "mimetype": "text/x-python",
   "name": "python",
   "nbconvert_exporter": "python",
   "pygments_lexer": "ipython3",
   "version": "3.9.7"
  }
 },
 "nbformat": 4,
 "nbformat_minor": 5
}
