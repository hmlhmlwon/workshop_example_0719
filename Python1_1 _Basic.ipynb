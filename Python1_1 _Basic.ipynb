{
 "cells": [
  {
   "cell_type": "markdown",
   "id": "3fd9a5ff",
   "metadata": {},
   "source": [
    "## 1.1 Python Basic\n",
    "\n",
    "### 목차 ###\n",
    "1) [Jupyter notebook에서 python 코드 실행 방법](#part1) <br>\n",
    "2) [print 와 주석달기](#part2)  <br>\n",
    "3) [python 문법의 특징](#part3)  <br>\n",
    "4) [간단한 계산](#part4)  <br>\n",
    "5) [Jupyter notebook 파일 저장과 이동](#part5)\n",
    "\n"
   ]
  },
  {
   "cell_type": "markdown",
   "id": "89366b16",
   "metadata": {},
   "source": [
    "\n",
    " ### 1) Jupyter notebook 에서 python 코드 실행 방법 <a id=\"part1\"></a>\n",
    "- 코드 Cell에 python 코드 입력\n",
    "- 원하는 Cell을 클릭해서 활성화 상태로 하기\n",
    "- Run 클릭 또는 Shift+Enter\n",
    "- `+` 버튼을 눌러서 코드 Cell 추가 가능 \n"
   ]
  },
  {
   "cell_type": "code",
   "execution_count": 1,
   "id": "4c46aa45",
   "metadata": {
    "scrolled": true
   },
   "outputs": [
    {
     "name": "stdout",
     "output_type": "stream",
     "text": [
      "Hello, World!\n"
     ]
    }
   ],
   "source": [
    "print(\"Hello, World!\")"
   ]
  },
  {
   "cell_type": "markdown",
   "id": "c035965f",
   "metadata": {},
   "source": [
    "\n",
    "### 2) print 와 주석달기<a id=\"part2\"></a>\n",
    "\n",
    "- 코드 Cell에 `#` 으로 시작하면 그 뒤 부터 주석으로 인식하고 명령어를 수행하지 않음\n",
    "- print는 화면에 `\"`로 묶인 문자열을 프린트함\n",
    "- `#`로 시작하는 주석은 한 줄씩만 유효하며 `\"\"\"`를 이용할 경우 여러 줄의 주석을 한 번에 묶어 표시할 수 있음 "
   ]
  },
  {
   "cell_type": "code",
   "execution_count": 1,
   "id": "1d08c745",
   "metadata": {},
   "outputs": [
    {
     "name": "stdout",
     "output_type": "stream",
     "text": [
      "#로 시작하지 않을때만 실행됩니다\n",
      "#는 코드 뒤에 붙여 놓아도 주석의 역할을 합니다. \n"
     ]
    }
   ],
   "source": [
    "#여기는 주석 라인입니다. \n",
    "#print(\"코드가 있어도 실행하지 않습니다!\")\n",
    "print(\"#로 시작하지 않을때만 실행됩니다\")\n",
    "print(\"#는 코드 뒤에 붙여 놓아도 주석의 역할을 합니다. \") #이렇게요"
   ]
  },
  {
   "cell_type": "code",
   "execution_count": 2,
   "id": "c9432342",
   "metadata": {},
   "outputs": [
    {
     "name": "stdout",
     "output_type": "stream",
     "text": [
      "Hello, World!\n"
     ]
    }
   ],
   "source": [
    "\"\"\"\n",
    "여기는 여러 줄의 주석을 쓸 수 있습니다. \n",
    "print(\"Hello\")\n",
    "\"\"\"\n",
    "print(\"Hello, World!\")"
   ]
  },
  {
   "cell_type": "markdown",
   "id": "e05b6ec1",
   "metadata": {},
   "source": [
    "\n",
    "### 3) python 문법의 특징 <a id=\"part3\"></a>\n",
    "\n",
    "- 많은 프로그래밍 언어는 한 라인의 끝을 `;`로 표시하도록 되어 있는데 python은 그렇지 않습니다. \n",
    "- 많은 프로그래밍 언어는 코드의 블록을 표시하기 위해 `(...)` 나 `{...}` 등을 많이 이용하지만 python은 indentation이라고 하는 들여쓰기를 이용해 코드의 내부 블록을 표시합니다. \n",
    "- indentation은 (white) space 한 칸, 또는 연속되는 여러 칸, 또는 tab space 한 칸, 또는 연속되는 여러 칸 모두 다 가능합니다. "
   ]
  },
  {
   "cell_type": "code",
   "execution_count": 3,
   "id": "43762de3",
   "metadata": {},
   "outputs": [
    {
     "name": "stdout",
     "output_type": "stream",
     "text": [
      "3 is greater than 1\n"
     ]
    }
   ],
   "source": [
    "#indentation 을 이용한 코드 불록 표시\n",
    "if 3> 1:\n",
    "    print(\"3 is greater than 1\")"
   ]
  },
  {
   "cell_type": "code",
   "execution_count": 4,
   "id": "6a8c6b6b",
   "metadata": {},
   "outputs": [
    {
     "ename": "IndentationError",
     "evalue": "expected an indented block (<ipython-input-4-78730ae2cba5>, line 3)",
     "output_type": "error",
     "traceback": [
      "\u001b[1;36m  File \u001b[1;32m\"<ipython-input-4-78730ae2cba5>\"\u001b[1;36m, line \u001b[1;32m3\u001b[0m\n\u001b[1;33m    print(\"3 is greater than 1\")\u001b[0m\n\u001b[1;37m    ^\u001b[0m\n\u001b[1;31mIndentationError\u001b[0m\u001b[1;31m:\u001b[0m expected an indented block\n"
     ]
    }
   ],
   "source": [
    "#indentation 을 하지 않으면 오류 발생\n",
    "if 3> 1:\n",
    "print(\"3 is greater than 1\")"
   ]
  },
  {
   "cell_type": "markdown",
   "id": "9c278201",
   "metadata": {},
   "source": [
    "### 4) 간단한 계산<a id=\"part4\"></a>\n",
    "- 덧셈 : `+`\n",
    "- 뺄셈 : `-`\n",
    "- 곱셈 : `*`\n",
    "- 나눗셈 : `/`\n",
    "- 나눗셈의 나머지 (modulo) : `%`\n",
    "- 나눗셈의 몫 : `//`\n",
    "- 지수 : `**`"
   ]
  },
  {
   "cell_type": "code",
   "execution_count": 3,
   "id": "340f73ba",
   "metadata": {},
   "outputs": [
    {
     "data": {
      "text/plain": [
       "-6"
      ]
     },
     "execution_count": 3,
     "metadata": {},
     "output_type": "execute_result"
    }
   ],
   "source": [
    "(1+3)-(5*2)"
   ]
  },
  {
   "cell_type": "code",
   "execution_count": 8,
   "id": "dd875b91",
   "metadata": {},
   "outputs": [
    {
     "data": {
      "text/plain": [
       "3"
      ]
     },
     "execution_count": 8,
     "metadata": {},
     "output_type": "execute_result"
    }
   ],
   "source": [
    "17//5"
   ]
  },
  {
   "cell_type": "code",
   "execution_count": 9,
   "id": "5456a28b",
   "metadata": {},
   "outputs": [
    {
     "data": {
      "text/plain": [
       "2"
      ]
     },
     "execution_count": 9,
     "metadata": {},
     "output_type": "execute_result"
    }
   ],
   "source": [
    "17%5"
   ]
  },
  {
   "cell_type": "code",
   "execution_count": 7,
   "id": "a51a44fa",
   "metadata": {},
   "outputs": [
    {
     "data": {
      "text/plain": [
       "141"
      ]
     },
     "execution_count": 7,
     "metadata": {},
     "output_type": "execute_result"
    }
   ],
   "source": [
    "4**2 + 5**3"
   ]
  },
  {
   "cell_type": "markdown",
   "id": "3c67f3e8",
   "metadata": {},
   "source": [
    "\n",
    "### 5) Jupyter notebook 파일 저장과 이동<a id=\"part5\"></a>\n",
    "\n",
    "- Jupyter notebook 파일은 .ipynb의 확장자로 저장됩니다. \n",
    "- 이 파일을 다른 폴더로 이동하여 jupyter program을 실행하여 열 수 있습니다. \n",
    "- .ipynb 파일을 Google Colab 이나 다른 플랫폼에 이동 복사하여 사용 가능합니다. \n",
    "- Jupyter notebook의 코드 입력 내용은 수시로 자동 저장되며, 저장버튼을 눌러 변경된 내용을 저장할 수 있습니다. \n",
    "\n"
   ]
  },
  {
   "cell_type": "code",
   "execution_count": null,
   "id": "b665ecbc",
   "metadata": {},
   "outputs": [],
   "source": []
  }
 ],
 "metadata": {
  "kernelspec": {
   "display_name": "Python 3 (ipykernel)",
   "language": "python",
   "name": "python3"
  },
  "language_info": {
   "codemirror_mode": {
    "name": "ipython",
    "version": 3
   },
   "file_extension": ".py",
   "mimetype": "text/x-python",
   "name": "python",
   "nbconvert_exporter": "python",
   "pygments_lexer": "ipython3",
   "version": "3.9.7"
  }
 },
 "nbformat": 4,
 "nbformat_minor": 5
}
