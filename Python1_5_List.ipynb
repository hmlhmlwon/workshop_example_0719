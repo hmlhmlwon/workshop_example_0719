{
 "cells": [
  {
   "cell_type": "markdown",
   "id": "f957d90d",
   "metadata": {},
   "source": [
    "## 1.5. 리스트\n",
    "\n",
    "### 목차\n",
    "1) [리스트](#part1) <br>\n",
    "2) [리스트의 인덱스](#part2) <br>\n",
    "3) [리스트 아이템 바꾸기](#part3) <br>\n",
    "4) [리스트 아이템 지우기](#part4) <br>\n",
    "5) [리스트 합치기](#part5) <br>\n",
    "6) [리스트 복사하기](#part6) <br>\n",
    "7) [리스트 정렬하기](#part7) <br>\n"
   ]
  },
  {
   "cell_type": "markdown",
   "id": "99e5eec6",
   "metadata": {},
   "source": [
    "### 1) 리스트 <a id=\"part1\"></a>\n",
    "\n",
    "- 리스트(list)는 여러개의 데이터를 하나로 묶어서 변수에 저장하는 방식임\n",
    "- [a, b, c]와 같이 `[..]`을 이용하여 지정함 \n"
   ]
  },
  {
   "cell_type": "code",
   "execution_count": 1,
   "id": "8653cf04",
   "metadata": {},
   "outputs": [
    {
     "name": "stdout",
     "output_type": "stream",
     "text": [
      "['apple', 'banana', 'cherry']\n",
      "[1, 2, 3]\n",
      "[1, '2']\n"
     ]
    }
   ],
   "source": [
    "L = [\"apple\", \"banana\", \"cherry\"] #문자 리스트\n",
    "K=[1,2,3]                         #숫자 리스트  \n",
    "M=[1,'2']                         #혼합형 리스트 \n",
    "print(L)\n",
    "print(K)\n",
    "print(M)"
   ]
  },
  {
   "cell_type": "markdown",
   "id": "6fafa2d7",
   "metadata": {},
   "source": [
    "### 2) 리스트의 인덱스 <a id=\"part2\"></a>\n",
    "- 리스트의 각 아이템은 인덱스(index) 번호를 이용해서 추출할 수 있음\n",
    "- 리스트 변수에 `[..]`을 이용하여 지정\n",
    "- 인덱스는 0, 1, 2, 3, ... 의 순서로 할당되는 정수임 (0에서 시작하는 것에 주의!)"
   ]
  },
  {
   "cell_type": "code",
   "execution_count": 2,
   "id": "72272851",
   "metadata": {},
   "outputs": [
    {
     "name": "stdout",
     "output_type": "stream",
     "text": [
      "banana\n"
     ]
    }
   ],
   "source": [
    "L = [\"apple\", \"banana\", \"cherry\"]\n",
    "print(L[1])"
   ]
  },
  {
   "cell_type": "markdown",
   "id": "4b4439ef",
   "metadata": {},
   "source": [
    "- 인덱스에 음수 정수를 넣으면 마지막 아이템에서부터 거꾸로 위치를 말해줌"
   ]
  },
  {
   "cell_type": "code",
   "execution_count": 3,
   "id": "71737c30",
   "metadata": {},
   "outputs": [
    {
     "name": "stdout",
     "output_type": "stream",
     "text": [
      "cherry\n",
      "banana\n"
     ]
    }
   ],
   "source": [
    "L = [\"apple\", \"banana\", \"cherry\"]\n",
    "print(L[-1])\n",
    "print(L[-2])"
   ]
  },
  {
   "cell_type": "markdown",
   "id": "c327ec5b",
   "metadata": {},
   "source": [
    "- 인덱스는 범위를 `a:b`로 지정하여 한 번에 여러 아이템을 추출할 수 있음.\n",
    "- 이 때 추출되는 아이템은 인덱스 번호 a부터 b-1 까지 임. 즉, 인덱스 b 직전까지 추출함.\n",
    "- 추출한 여러 아이템은 다시 리스트로 저장할 수 있음"
   ]
  },
  {
   "cell_type": "code",
   "execution_count": 4,
   "id": "4b56119b",
   "metadata": {},
   "outputs": [
    {
     "name": "stdout",
     "output_type": "stream",
     "text": [
      "['cherry', 'orange', 'kiwi']\n"
     ]
    },
    {
     "data": {
      "text/plain": [
       "list"
      ]
     },
     "execution_count": 4,
     "metadata": {},
     "output_type": "execute_result"
    }
   ],
   "source": [
    "L = [\"apple\", \"banana\", \"cherry\", \"orange\", \"kiwi\", \"melon\", \"mango\"]\n",
    "Lsub=L[2:5]\n",
    "print(Lsub)\n",
    "type(Lsub)"
   ]
  },
  {
   "cell_type": "markdown",
   "id": "de20c54f",
   "metadata": {},
   "source": [
    "- 인덱스 범위를 `:b`와 같이 지정하면 처음부터 인덱스 b 직전까지 아이템을추출함\n",
    "- 인덱스 범위를 `a:`와 같이 지정하면 인덱스 a부터 마지막 아이템까지 추출함"
   ]
  },
  {
   "cell_type": "code",
   "execution_count": 5,
   "id": "b15f0930",
   "metadata": {
    "scrolled": true
   },
   "outputs": [
    {
     "name": "stdout",
     "output_type": "stream",
     "text": [
      "['apple', 'banana', 'cherry']\n",
      "['cherry', 'orange', 'kiwi', 'melon', 'mango']\n"
     ]
    }
   ],
   "source": [
    "L = [\"apple\", \"banana\", \"cherry\", \"orange\", \"kiwi\", \"melon\", \"mango\"]\n",
    "print(L[:3])\n",
    "print(L[2:])"
   ]
  },
  {
   "cell_type": "markdown",
   "id": "58435141",
   "metadata": {},
   "source": [
    "### 3) 리스트 아이템 바꾸기 <a id=\"part3\"></a>\n",
    "- 리스트의 특정 아이템을 인덱스를 사용해 지정한 후 등호를 사용해 새로운 값을 저장함\n"
   ]
  },
  {
   "cell_type": "code",
   "execution_count": 6,
   "id": "a7dc3f38",
   "metadata": {},
   "outputs": [
    {
     "data": {
      "text/plain": [
       "['apple', 'blueberry', 'cherry', 'orange', 'kiwi', 'melon', 'mango']"
      ]
     },
     "execution_count": 6,
     "metadata": {},
     "output_type": "execute_result"
    }
   ],
   "source": [
    "#한 개의 아이템 바꾸기 \n",
    "L = [\"apple\", \"banana\", \"cherry\", \"orange\", \"kiwi\", \"melon\", \"mango\"]\n",
    "L[1]=\"blueberry\"\n",
    "L"
   ]
  },
  {
   "cell_type": "code",
   "execution_count": 7,
   "id": "db0697f5",
   "metadata": {},
   "outputs": [
    {
     "data": {
      "text/plain": [
       "['apple', 'blueberry', 'citrus', 'orange', 'kiwi', 'melon', 'mango']"
      ]
     },
     "execution_count": 7,
     "metadata": {},
     "output_type": "execute_result"
    }
   ],
   "source": [
    "#특정 범위의 아이템 한 번에 바꾸기\n",
    "L = [\"apple\", \"banana\", \"cherry\", \"orange\", \"kiwi\", \"melon\", \"mango\"]\n",
    "L[1:3]=[\"blueberry\", \"citrus\"]\n",
    "L"
   ]
  },
  {
   "cell_type": "code",
   "execution_count": 8,
   "id": "94ff3b6b",
   "metadata": {},
   "outputs": [
    {
     "data": {
      "text/plain": [
       "['apple', 'blueberry', 'citrus', 'pear', 'orange', 'kiwi', 'melon', 'mango']"
      ]
     },
     "execution_count": 8,
     "metadata": {},
     "output_type": "execute_result"
    }
   ],
   "source": [
    "#특정 범위의 아이템을 더 긴 길이의 리스트로 바꾸기\n",
    "L = [\"apple\", \"banana\", \"cherry\", \"orange\", \"kiwi\", \"melon\", \"mango\"]\n",
    "L[1:3]=[\"blueberry\", \"citrus\",\"pear\"]\n",
    "L"
   ]
  },
  {
   "cell_type": "code",
   "execution_count": 9,
   "id": "a83ee0a0",
   "metadata": {},
   "outputs": [
    {
     "data": {
      "text/plain": [
       "['apple', 'blueberry', 'citrus', 'kiwi', 'melon', 'mango']"
      ]
     },
     "execution_count": 9,
     "metadata": {},
     "output_type": "execute_result"
    }
   ],
   "source": [
    "#특정 범위의 아이템을 더 짧은 리스트로 바꾸기\n",
    "L = [\"apple\", \"banana\", \"cherry\", \"orange\", \"kiwi\", \"melon\", \"mango\"]\n",
    "L[1:4]=[\"blueberry\",\"citrus\"]\n",
    "L"
   ]
  },
  {
   "cell_type": "markdown",
   "id": "dd2fabcc",
   "metadata": {},
   "source": [
    "- `insert()` method를 사용하여 리스트 중간에 새로운 아이템을 삽입함"
   ]
  },
  {
   "cell_type": "code",
   "execution_count": 10,
   "id": "cba6d771",
   "metadata": {},
   "outputs": [
    {
     "data": {
      "text/plain": [
       "['apple', 'banana', 'blueberry', 'cherry', 'orange', 'kiwi', 'melon', 'mango']"
      ]
     },
     "execution_count": 10,
     "metadata": {},
     "output_type": "execute_result"
    }
   ],
   "source": [
    "#index 2 위치에 새로운 아이템을 삽입 (한 아이템만 가능)\n",
    "L = [\"apple\", \"banana\", \"cherry\", \"orange\", \"kiwi\", \"melon\", \"mango\"]\n",
    "L.insert(2, \"blueberry\")\n",
    "L"
   ]
  },
  {
   "cell_type": "markdown",
   "id": "63bf7f57",
   "metadata": {},
   "source": [
    "- `append()` method를 사용하여 리스트 맨 뒤에 새로운 아이템을 삽입함 "
   ]
  },
  {
   "cell_type": "code",
   "execution_count": 11,
   "id": "ee9de5c1",
   "metadata": {},
   "outputs": [
    {
     "data": {
      "text/plain": [
       "['apple', 'banana', 'cherry', 'orange']"
      ]
     },
     "execution_count": 11,
     "metadata": {},
     "output_type": "execute_result"
    }
   ],
   "source": [
    "L = [\"apple\", \"banana\", \"cherry\"]\n",
    "L.append(\"orange\")\n",
    "L"
   ]
  },
  {
   "cell_type": "markdown",
   "id": "c57af563",
   "metadata": {},
   "source": [
    "### 4) 리스트 아이템 지우기  <a id=\"part4\"></a>\n",
    "\n",
    "- `remove()` method를 사용하여 리스트에서 해당 아이템을 지움\n",
    "- `pop()` method를 사용하여 해당 인덱스의 아이템을 지움\n",
    "- `del` 명령어를 써서 리스트의 특정 아이템을 지우거나 리스트를 지움(워킹 메모리에서 삭제)\n",
    "- `clear()` method를 써서 리스트의 모든 아이템을 지움"
   ]
  },
  {
   "cell_type": "code",
   "execution_count": 12,
   "id": "81ef5f58",
   "metadata": {},
   "outputs": [
    {
     "data": {
      "text/plain": [
       "['apple', 'banana', 'orange', 'kiwi', 'melon', 'mango']"
      ]
     },
     "execution_count": 12,
     "metadata": {},
     "output_type": "execute_result"
    }
   ],
   "source": [
    "#해당 아이템 중 제일 처음 오는 것을 지움\n",
    "L = [\"apple\", \"banana\", \"banana\", \"orange\", \"kiwi\", \"melon\", \"mango\"]\n",
    "L.remove(\"banana\")\n",
    "L"
   ]
  },
  {
   "cell_type": "code",
   "execution_count": 13,
   "id": "13f698d0",
   "metadata": {},
   "outputs": [
    {
     "data": {
      "text/plain": [
       "['apple', 'orange', 'kiwi', 'melon', 'mango']"
      ]
     },
     "execution_count": 13,
     "metadata": {},
     "output_type": "execute_result"
    }
   ],
   "source": [
    "#인덱스 1의 아이템을 지움\n",
    "L = [\"apple\", \"banana\", \"orange\", \"kiwi\", \"melon\", \"mango\"]\n",
    "L.pop(1)\n",
    "L"
   ]
  },
  {
   "cell_type": "code",
   "execution_count": 14,
   "id": "faf3e691",
   "metadata": {},
   "outputs": [
    {
     "data": {
      "text/plain": [
       "['apple', 'orange', 'kiwi', 'melon', 'mango']"
      ]
     },
     "execution_count": 14,
     "metadata": {},
     "output_type": "execute_result"
    }
   ],
   "source": [
    "#del를 사용하여 지움\n",
    "L = [\"apple\", \"banana\", \"orange\", \"kiwi\", \"melon\", \"mango\"]\n",
    "del L[1]\n",
    "L"
   ]
  },
  {
   "cell_type": "code",
   "execution_count": 15,
   "id": "bf118f06",
   "metadata": {},
   "outputs": [
    {
     "data": {
      "text/plain": [
       "['apple', 'banana', 'orange', 'kiwi', 'melon']"
      ]
     },
     "execution_count": 15,
     "metadata": {},
     "output_type": "execute_result"
    }
   ],
   "source": [
    "#마지막 아이템을 지움\n",
    "L = [\"apple\", \"banana\", \"orange\", \"kiwi\", \"melon\", \"mango\"]\n",
    "L.pop()\n",
    "L"
   ]
  },
  {
   "cell_type": "code",
   "execution_count": 16,
   "id": "097ba72a",
   "metadata": {},
   "outputs": [
    {
     "ename": "NameError",
     "evalue": "name 'L' is not defined",
     "output_type": "error",
     "traceback": [
      "\u001b[1;31m---------------------------------------------------------------------------\u001b[0m",
      "\u001b[1;31mNameError\u001b[0m                                 Traceback (most recent call last)",
      "\u001b[1;32m~\\AppData\\Local\\Temp/ipykernel_9208/1485345281.py\u001b[0m in \u001b[0;36m<module>\u001b[1;34m\u001b[0m\n\u001b[0;32m      2\u001b[0m \u001b[0mL\u001b[0m \u001b[1;33m=\u001b[0m \u001b[1;33m[\u001b[0m\u001b[1;34m\"apple\"\u001b[0m\u001b[1;33m,\u001b[0m \u001b[1;34m\"banana\"\u001b[0m\u001b[1;33m,\u001b[0m \u001b[1;34m\"orange\"\u001b[0m\u001b[1;33m,\u001b[0m \u001b[1;34m\"kiwi\"\u001b[0m\u001b[1;33m,\u001b[0m \u001b[1;34m\"melon\"\u001b[0m\u001b[1;33m,\u001b[0m \u001b[1;34m\"mango\"\u001b[0m\u001b[1;33m]\u001b[0m\u001b[1;33m\u001b[0m\u001b[1;33m\u001b[0m\u001b[0m\n\u001b[0;32m      3\u001b[0m \u001b[1;32mdel\u001b[0m \u001b[0mL\u001b[0m\u001b[1;33m\u001b[0m\u001b[1;33m\u001b[0m\u001b[0m\n\u001b[1;32m----> 4\u001b[1;33m \u001b[0mL\u001b[0m\u001b[1;33m\u001b[0m\u001b[1;33m\u001b[0m\u001b[0m\n\u001b[0m",
      "\u001b[1;31mNameError\u001b[0m: name 'L' is not defined"
     ]
    }
   ],
   "source": [
    "#리스트 자체를 지움\n",
    "L = [\"apple\", \"banana\", \"orange\", \"kiwi\", \"melon\", \"mango\"]\n",
    "del L\n",
    "L"
   ]
  },
  {
   "cell_type": "code",
   "execution_count": 17,
   "id": "933c3931",
   "metadata": {},
   "outputs": [
    {
     "data": {
      "text/plain": [
       "[]"
      ]
     },
     "execution_count": 17,
     "metadata": {},
     "output_type": "execute_result"
    }
   ],
   "source": [
    "#리스트의 모든 아이템을 지움\n",
    "L = [\"apple\", \"banana\", \"orange\", \"kiwi\", \"melon\", \"mango\"]\n",
    "L.clear()\n",
    "L"
   ]
  },
  {
   "cell_type": "markdown",
   "id": "3aedf036",
   "metadata": {},
   "source": [
    "- 리스트 자체가 메모리에 없는 것과 리스트는 있지만 아이템이 없는 것은 구분해야함\n",
    "- 아이템이 없는 리스트를 일단 선언한 후에 아이템을 점차 추가하는 방식을 쓸 수 있음"
   ]
  },
  {
   "cell_type": "code",
   "execution_count": 18,
   "id": "ba56ee77",
   "metadata": {},
   "outputs": [
    {
     "data": {
      "text/plain": [
       "['apple']"
      ]
     },
     "execution_count": 18,
     "metadata": {},
     "output_type": "execute_result"
    }
   ],
   "source": [
    "L=[]\n",
    "L.append(\"apple\")\n",
    "L"
   ]
  },
  {
   "cell_type": "markdown",
   "id": "3aa3c441",
   "metadata": {},
   "source": [
    "### 5) 리스트 합치기  <a id=\"part5\"></a>\n",
    "- 두 리스트를 연결하여 하나의 리스트로 만드는 방법으로 `+` 를 쓸 수 있음\n",
    "- 또는 `extend()` 를 쓸 수 있음"
   ]
  },
  {
   "cell_type": "code",
   "execution_count": 19,
   "id": "b798ac06",
   "metadata": {},
   "outputs": [
    {
     "data": {
      "text/plain": [
       "['a', 'b', 'c', 1, 2, 3]"
      ]
     },
     "execution_count": 19,
     "metadata": {},
     "output_type": "execute_result"
    }
   ],
   "source": [
    "L1 = [\"a\", \"b\", \"c\"]\n",
    "L2 = [1, 2, 3]\n",
    "\n",
    "L3 = L1 + L2  #새로운 리스트 L3에 저장, 문자형과 숫자형 혼합 가능\n",
    "L3"
   ]
  },
  {
   "cell_type": "code",
   "execution_count": 20,
   "id": "d2056079",
   "metadata": {},
   "outputs": [
    {
     "data": {
      "text/plain": [
       "['a', 'b', 'c', 1, 2, 3]"
      ]
     },
     "execution_count": 20,
     "metadata": {},
     "output_type": "execute_result"
    }
   ],
   "source": [
    "L1 = [\"a\", \"b\", \"c\"]\n",
    "L2 = [1, 2, 3]\n",
    "\n",
    "L1.extend(L2) #기존의 리스트 L1에 저장\n",
    "L1"
   ]
  },
  {
   "cell_type": "markdown",
   "id": "a99b21db",
   "metadata": {},
   "source": [
    "### 6) 리스트 복사하기 <a id=\"part6\"></a>\n",
    "- `copy()` method를 사용하여 같은 내용의 리스트를 새로 만들 수 있음\n",
    "- 또는 `list()` 함수를 사용하여 새로운 리스트를 선언할 때 기존 리스트를 이용할 수 있음\n"
   ]
  },
  {
   "cell_type": "code",
   "execution_count": 21,
   "id": "8f98af2b",
   "metadata": {},
   "outputs": [
    {
     "data": {
      "text/plain": [
       "['a', 'b', 'c']"
      ]
     },
     "execution_count": 21,
     "metadata": {},
     "output_type": "execute_result"
    }
   ],
   "source": [
    "L1 = [\"a\", \"b\", \"c\"]\n",
    "L2=L1.copy()\n",
    "L2"
   ]
  },
  {
   "cell_type": "code",
   "execution_count": 22,
   "id": "63ae1b3a",
   "metadata": {},
   "outputs": [
    {
     "data": {
      "text/plain": [
       "['a', 'b', 'c']"
      ]
     },
     "execution_count": 22,
     "metadata": {},
     "output_type": "execute_result"
    }
   ],
   "source": [
    "L1 = [\"a\", \"b\", \"c\"]\n",
    "L2=list(L1)\n",
    "L2"
   ]
  },
  {
   "cell_type": "markdown",
   "id": "790ac3ee",
   "metadata": {},
   "source": [
    "- <span style=\"color:red\">주의사항</span> : L2 = L1 라는 코드는 L2가 L1의 참조(reference:L1을 나타내는 또 다른 이름)가 된다는 뜻으로 L2의 원소를 변형하면 L1의 원소도 변형됨. copy된 것과 reference를 구분해야함"
   ]
  },
  {
   "cell_type": "code",
   "execution_count": 23,
   "id": "fd5219df",
   "metadata": {},
   "outputs": [
    {
     "data": {
      "text/plain": [
       "['a', 'bb', 'c']"
      ]
     },
     "execution_count": 23,
     "metadata": {},
     "output_type": "execute_result"
    }
   ],
   "source": [
    "L1 = [\"a\", \"b\", \"c\"]\n",
    "L2 = L1\n",
    "L1[1]=\"bb\"\n",
    "L2"
   ]
  },
  {
   "cell_type": "markdown",
   "id": "2a1986f1",
   "metadata": {},
   "source": [
    "### 7) 리스트 정렬하기 <a id=\"part7\"></a>\n",
    "- `sort()` method를 사용하여 리스트 아이템을 크기 순이나 알파벳, 가나다 순으로 정렬 가능함 (역순도 가능)\n"
   ]
  },
  {
   "cell_type": "code",
   "execution_count": 24,
   "id": "e3f22520",
   "metadata": {},
   "outputs": [
    {
     "data": {
      "text/plain": [
       "['banana', 'kiwi', 'mango', 'orange', 'pineapple']"
      ]
     },
     "execution_count": 24,
     "metadata": {},
     "output_type": "execute_result"
    }
   ],
   "source": [
    "#알파벳 순 \n",
    "L = [\"orange\", \"mango\", \"kiwi\", \"pineapple\", \"banana\"]\n",
    "L.sort()\n",
    "L"
   ]
  },
  {
   "cell_type": "code",
   "execution_count": 25,
   "id": "56d21626",
   "metadata": {},
   "outputs": [
    {
     "data": {
      "text/plain": [
       "[5, 3, 3, 1]"
      ]
     },
     "execution_count": 25,
     "metadata": {},
     "output_type": "execute_result"
    }
   ],
   "source": [
    "#크기의 역순\n",
    "L = [1, 3, 3, 5]\n",
    "L.sort(reverse = True)\n",
    "L"
   ]
  },
  {
   "cell_type": "code",
   "execution_count": 26,
   "id": "ff5ff60d",
   "metadata": {},
   "outputs": [
    {
     "data": {
      "text/plain": [
       "['딸기', '배', '사과', '포도']"
      ]
     },
     "execution_count": 26,
     "metadata": {},
     "output_type": "execute_result"
    }
   ],
   "source": [
    "#가나다 순\n",
    "L = [\"사과\", \"배\", \"딸기\", \"포도\"]\n",
    "L.sort()\n",
    "L"
   ]
  }
 ],
 "metadata": {
  "kernelspec": {
   "display_name": "Python 3 (ipykernel)",
   "language": "python",
   "name": "python3"
  },
  "language_info": {
   "codemirror_mode": {
    "name": "ipython",
    "version": 3
   },
   "file_extension": ".py",
   "mimetype": "text/x-python",
   "name": "python",
   "nbconvert_exporter": "python",
   "pygments_lexer": "ipython3",
   "version": "3.9.7"
  }
 },
 "nbformat": 4,
 "nbformat_minor": 5
}
